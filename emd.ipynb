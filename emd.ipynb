{
 "cells": [
  {
   "cell_type": "markdown",
   "metadata": {},
   "source": [
    "### Hungarian Algorithm and Earth Mover’s Distance\n",
    "\n",
    "Compute the bijective mapping using the Hungarian Algorithm as well as the Earth Mover's Distance between the two point clouds sampled from the last question.\n",
    "\n",
    "Result: My implementation returned the same cost as calculated by the build-in scipy function scipy.optimize.linear_sum_assignment."
   ]
  },
  {
   "cell_type": "code",
   "execution_count": null,
   "metadata": {},
   "outputs": [],
   "source": [
    "import pymesh\n",
    "import numpy as np\n",
    "from sklearn.metrics.pairwise import euclidean_distances\n",
    "from scipy.optimize import linear_sum_assignment"
   ]
  },
  {
   "cell_type": "code",
   "execution_count": null,
   "metadata": {},
   "outputs": [],
   "source": [
    "teapot = pymesh.load_mesh(\"sampled_teapot.obj\")\n",
    "violin_case = pymesh.load_mesh(\"sampled_violin_case.obj\")"
   ]
  },
  {
   "cell_type": "code",
   "execution_count": null,
   "metadata": {},
   "outputs": [],
   "source": [
    "vertices_teapot = teapot.vertices[np.random.permutation(1000)[:500],:]\n",
    "vertices_violin_case = violin_case.vertices[np.random.permutation(1000)[:500],:]"
   ]
  },
  {
   "cell_type": "code",
   "execution_count": null,
   "metadata": {},
   "outputs": [],
   "source": [
    "# compute the cost matrix\n",
    "a = euclidean_distances(vertices_teapot,vertices_violin_case)"
   ]
  },
  {
   "cell_type": "code",
   "execution_count": null,
   "metadata": {},
   "outputs": [],
   "source": [
    "def subtract_mins(a):\n",
    "    n = a.shape[0]\n",
    "    a_ = np.copy(a)  \n",
    "    # find min for each row and subtract it from every element in its row \n",
    "    r = np.zeros([n,n])\n",
    "    r[:,:] = np.amin(a_,axis=1).reshape([n,1])\n",
    "    a_ = a_-r\n",
    "    # find min for each col and subtract it from every element in its col\n",
    "    c = np.zeros([n,n])\n",
    "    c[:,:] = np.amin(a_,axis=0).reshape([1,n])\n",
    "    a_ = a_-c\n",
    "    return a_\n",
    "\n",
    "def find_assignment(b):\n",
    "    n = b.shape[0]\n",
    "    b_ = np.copy(b)\n",
    "    ass = np.zeros([n,n])\n",
    "\n",
    "    # iterate the rows, mark the cell if only one zero in the original row\n",
    "    for i in range(n):\n",
    "        if np.sum(b[i,:]) == 1:\n",
    "            j = np.argmax(b[i,:])\n",
    "            # mark it only when it has not been crossed out yet\n",
    "            if b_[i,j] == 1:\n",
    "                ass[i,j] = 1\n",
    "                # cross out all zeros in the corresponding column\n",
    "                b_[:,j] = 0\n",
    "    \n",
    "    # return if no zeros left\n",
    "    if np.sum(b_) == 0:\n",
    "        return ass\n",
    "\n",
    "    # same procedure as iterating the rows but now iterating the columns\n",
    "    for j in range(n):\n",
    "        if np.sum(b[:,j]) == 1:\n",
    "            i = np.argmax(b[:,j])\n",
    "            if b_[i,j] == 1:\n",
    "                ass[i,j] = 1\n",
    "                b_[i,:] = 0\n",
    "\n",
    "    return ass\n",
    "\n",
    "def covering_lines(a):\n",
    "    n = a.shape[0]\n",
    "    b = np.zeros([n,n])\n",
    "    # mark all zeros 1, all others 0\n",
    "    b[a==0] = 1\n",
    "\n",
    "    # find as many valid assignments as possible\n",
    "    ass = find_assignment(b)\n",
    "    if np.sum(ass) == n:\n",
    "        return ass,[],[]\n",
    "\n",
    "    c_marks = np.zeros(n) # column marks\n",
    "    r_marks = np.zeros(n) # row marks\n",
    "    r_marks[np.where(np.sum(ass,axis=1)==0)[0]] = 1 \n",
    "    # mark all unassigned rows \n",
    "\n",
    "    for i in range(n):\n",
    "        if r_marks[i] == 0:\n",
    "            continue\n",
    "        cidx = np.where(b[i,:]==1)[0]\n",
    "        # columns having zeros in the marked row\n",
    "        if len(cidx) > 0:\n",
    "            c_marks[cidx] = 1 # mark those columns \n",
    "            ridx = np.where(np.sum(ass[:,cidx],axis=1)==1)[0] \n",
    "            # rows having assignments in the newly marked columns\n",
    "            if len(ridx) > 0:\n",
    "                r_marks[ridx] = 1 # mark those rows\n",
    "                \n",
    "    rows = np.where(r_marks==0)[0] # uncovered rows\n",
    "    cols = np.where(c_marks==1)[0] # covered columns\n",
    "    \n",
    "    return ass,rows,cols\n",
    "\n",
    "def shift_zeros(a,r,c):\n",
    "    n = a.shape[0]\n",
    "    a_ = np.copy(a)\n",
    "    \n",
    "    a_[r,:] = 0\n",
    "    a_[:,c] = 0\n",
    "\n",
    "    # find min of the uncovered elements\n",
    "    v = a_.reshape([n*n])\n",
    "    min_entry = np.min(v[np.where(v>0)[0]])\n",
    "    a_[a_>0] = a_[a_>0]-min_entry\n",
    "    \n",
    "    a_[r,:] = a[r,:]\n",
    "    a_[:,c] = a[:,c]\n",
    "    \n",
    "    # add min to the elements covered by two lines\n",
    "    for i in range(len(r)):\n",
    "        for j in range(len(c)):\n",
    "            a_[r[i]][c[j]] += min_entry\n",
    "    return a_"
   ]
  },
  {
   "cell_type": "code",
   "execution_count": null,
   "metadata": {},
   "outputs": [],
   "source": [
    "def munkres_assignment(a):\n",
    "    # pre processing\n",
    "    n = a.shape[0]\n",
    "    a_ = subtract_mins(a)\n",
    "    \n",
    "    # find minimum covering lines for all zeros\n",
    "    ass,rows,cols = covering_lines(a_)\n",
    "    \n",
    "    # testing for optimality\n",
    "    while np.sum(ass) < n:\n",
    "        a_ = shift_zeros(a_,rows,cols)\n",
    "        ass,rows,cols = covering_lines(a_)\n",
    "\n",
    "    cost = np.sum(a[ass==1])\n",
    "    print([np.argmax(ass[i,:]) for i in range(n)])\n",
    "    return cost"
   ]
  },
  {
   "cell_type": "code",
   "execution_count": null,
   "metadata": {},
   "outputs": [],
   "source": [
    "print(munkres_assignment(a))"
   ]
  },
  {
   "cell_type": "code",
   "execution_count": null,
   "metadata": {},
   "outputs": [],
   "source": [
    "# verify my implementation with built-in scipy function\n",
    "r,c = linear_sum_assignment(a)\n",
    "print(a[r,c].sum())\n",
    "print(c)"
   ]
  }
 ],
 "metadata": {
  "kernelspec": {
   "display_name": "Python 3",
   "language": "python",
   "name": "python3"
  },
  "language_info": {
   "codemirror_mode": {
    "name": "ipython",
    "version": 3
   },
   "file_extension": ".py",
   "mimetype": "text/x-python",
   "name": "python",
   "nbconvert_exporter": "python",
   "pygments_lexer": "ipython3",
   "version": "3.6.4"
  }
 },
 "nbformat": 4,
 "nbformat_minor": 2
}
