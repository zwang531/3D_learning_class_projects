{
 "cells": [
  {
   "cell_type": "markdown",
   "metadata": {},
   "source": [
    "### Farthest Point Sampling \n",
    "\n",
    "Using PyMesh to load the obj files. Sample around 10,000 points randomly from the mesh and choose 1000 points using farthest point sampling."
   ]
  },
  {
   "cell_type": "code",
   "execution_count": null,
   "metadata": {},
   "outputs": [],
   "source": [
    "import pymesh\n",
    "import numpy as np"
   ]
  },
  {
   "cell_type": "code",
   "execution_count": null,
   "metadata": {},
   "outputs": [],
   "source": [
    "teapot = pymesh.load_mesh(\"teapot.obj\")\n",
    "violin_case = pymesh.load_mesh(\"violin_case.obj\")"
   ]
  },
  {
   "cell_type": "code",
   "execution_count": null,
   "metadata": {},
   "outputs": [],
   "source": [
    "def calculate_triangle_area(v):\n",
    "    a = np.linalg.norm(v[0]-v[1])\n",
    "    b = np.linalg.norm(v[0]-v[2])\n",
    "    c = np.linalg.norm(v[1]-v[2])\n",
    "    s = (a+b+c)/2.\n",
    "    area = (s*(s-a)*(s-b)*(s-c))**0.5\n",
    "    return area"
   ]
  },
  {
   "cell_type": "code",
   "execution_count": null,
   "metadata": {},
   "outputs": [],
   "source": [
    "triangle_areas = np.zeros(violin_case.num_faces)\n",
    "for i in range(violin_case.num_faces):\n",
    "    vidx = violin_case.faces[i]\n",
    "    vertices = violin_case.vertices[vidx,:]\n",
    "    triangle_areas[i] = calculate_triangle_area(vertices)\n",
    "\n",
    "weights = triangle_areas/np.sum(triangle_areas)\n",
    "num_points = np.round(weights*10000).astype(np.int)\n",
    "\n",
    "P = np.zeros([sum(num_points),3])\n",
    "\n",
    "begin = 0\n",
    "for i in range(violin_case.num_faces):\n",
    "    r1 = np.random.uniform(0,1,num_points[i]).reshape([num_points[i],1])\n",
    "    r2 = np.random.uniform(0,1,num_points[i]).reshape([num_points[i],1])\n",
    "    \n",
    "    A = np.zeros([num_points[i],3])\n",
    "    A[:,] = violin_case.vertices[violin_case.faces[i][0],:]\n",
    "    \n",
    "    B = np.zeros([num_points[i],3])\n",
    "    B[:,] = violin_case.vertices[violin_case.faces[i][1],:]\n",
    "    \n",
    "    C = np.zeros([num_points[i],3])\n",
    "    C[:,] = violin_case.vertices[violin_case.faces[i][2],:]\n",
    "    \n",
    "    D = np.multiply(1-np.sqrt(r1),A)\\\n",
    "        + np.multiply(np.multiply(np.sqrt(r1),1-r2),B)\\\n",
    "        + np.multiply(np.multiply(np.sqrt(r1),r2),C)\n",
    "    \n",
    "    P[begin:begin+num_points[i],:] = D\n",
    "    begin += num_points[i]\n",
    "\n",
    "S = np.zeros([1000,3])\n",
    "idx = np.random.randint(sum(num_points),size=1)\n",
    "S[0,:] = P[idx,:]\n",
    "n = 1\n",
    "indices = idx.tolist()\n",
    "\n",
    "while n < 1000:\n",
    "    dist = np.zeros(sum(num_points))\n",
    "    for i in range(sum(num_points)):\n",
    "        Q = np.zeros([n,3])\n",
    "        Q[:,] = P[i,:]\n",
    "        D = np.linalg.norm(Q-S[:n,:],axis=1)\n",
    "        dist[i] = min(D)\n",
    "    sort_dist = np.argsort(dist)[::-1]\n",
    "#     sort_dist = np.delete(sort_dist,[np.where(indices[k]==sort_dist)[0].tolist()[0] for k in range(n)])\n",
    "    indices.append(sort_dist[0])\n",
    "    print(sort_dist[0])\n",
    "    S[n,:] = P[indices[-1],:]\n",
    "    n += 1"
   ]
  },
  {
   "cell_type": "code",
   "execution_count": null,
   "metadata": {},
   "outputs": [],
   "source": [
    "new_mesh = pymesh.tetgen()\n",
    "new_mesh.points = S\n",
    "new_mesh.run()\n",
    "sampled_violin_case = new_mesh.mesh\n",
    "pymesh.save_mesh(\"sampled_violin_case.obj\", sampled_violin_case, use_float=True)"
   ]
  },
  {
   "cell_type": "code",
   "execution_count": null,
   "metadata": {},
   "outputs": [],
   "source": []
  }
 ],
 "metadata": {
  "kernelspec": {
   "display_name": "Python 3",
   "language": "python",
   "name": "python3"
  },
  "language_info": {
   "codemirror_mode": {
    "name": "ipython",
    "version": 3
   },
   "file_extension": ".py",
   "mimetype": "text/x-python",
   "name": "python",
   "nbconvert_exporter": "python",
   "pygments_lexer": "ipython3",
   "version": "3.6.4"
  }
 },
 "nbformat": 4,
 "nbformat_minor": 2
}
